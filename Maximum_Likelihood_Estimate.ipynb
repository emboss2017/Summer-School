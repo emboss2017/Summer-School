{
 "cells": [
  {
   "cell_type": "markdown",
   "metadata": {},
   "source": [
    "# Maximum Likelihood Estimate(MLE) 最大似然估计"
   ]
  },
  {
   "cell_type": "code",
   "execution_count": null,
   "metadata": {
    "collapsed": true
   },
   "outputs": [],
   "source": [
    "Name: [殷 晨] Date: [2016/10/06]\n"
   ]
  },
  {
   "cell_type": "markdown",
   "metadata": {},
   "source": [
    "<script type=\"text/javascript\" src=\"http://cdn.mathjax.org/mathjax/latest/MathJax.js?config=default\"></script><font size=4>\n",
    "\n",
    "1.设总体概率函数如下, $x_1, \\dots ,x_n$是样本, 试求未知参数的最大似然估计.\n",
    "\n",
    "(1) $p(x; \\theta)=\\sqrt{\\theta}x^{\\sqrt{\\theta}-1}, 0<x<1, \\theta>0$;\n",
    "\n",
    "(2) $p(x; \\theta)=\\theta c^{\\theta}x^{-(\\theta+1)}, x>c, c>0, \\theta>1$;\n",
    "\n",
    "\n",
    "\n",
    "\n",
    "\n",
    "</font>"
   ]
  },
  {
   "cell_type": "markdown",
   "metadata": {},
   "source": [
    "<script type=\"text/javascript\" src=\"http://cdn.mathjax.org/mathjax/latest/MathJax.js?config=default\"></script><font size=4>\n",
    "\n",
    "解:\n",
    "(1)\n",
    "\n",
    "$\\begin{align}\n",
    "L(\\theta) &= \\sideset{}{}\\prod^{n}_{i=1} (\\sqrt{\\theta}x_{i}^{\\sqrt{\\theta}-1})\n",
    "          = \\theta^{\\frac{n}{2}} \\sideset{}{}\\prod^{n}_{i=1} (x_{i}^{\\sqrt{\\theta}-1})\\\\\n",
    "\\ln{L(\\theta)} &= \\frac{n}{2} \\ln{\\theta}+(\\sqrt{\\theta}-1)\\sideset{}{}\\sum^{n}_{i=1} (\\ln{x_{i}})\\\\\n",
    "\\text{令} \\frac{d\\ln{L(\\theta)}}{d\\theta} &= \\frac{n}{2\\theta}+\\sideset{}{}\\sum^{n}_{i=1}(\\ln{x_{i}})\\frac{1}{2\\sqrt{\\theta}}=0\\\\\n",
    "\\text{解得} \\hat{\\theta} &= \\frac{n^{2}}{(-\\sideset{}{}\\sum^{n}_{i=1} \\ln x_{i})^{2}} \\\\\n",
    "\\text{由于} \\frac{d^{2}\\ln{L(\\theta)}}{{d\\theta}^{2}} &= \n",
    "-\\frac{n}{2{\\theta}^{2}}-\\frac{1}{4} \\sum^{n}_{i=1}(\\ln x_{i}) \\frac{1}{{\\theta}^{\\frac{3}{2}}}<0 \\\\\n",
    "\\text{所以}\\hat{\\theta}\\text{是极大值点}\n",
    "\\end{align}$\n",
    "\n",
    "\n",
    "\n",
    "</font>"
   ]
  },
  {
   "cell_type": "markdown",
   "metadata": {},
   "source": [
    "<script type=\"text/javascript\" src=\"http://cdn.mathjax.org/mathjax/latest/MathJax.js?config=default\"></script><font size=4>\n",
    "(2)\n",
    "\n",
    "$\\begin{align}\n",
    "L(\\theta) &= \\sideset{}{}\\prod^{n}_{i=1} [\\theta c^{\\theta}x_{i}^{-(\\theta+1)}]\\\\\n",
    "\\ln{L(\\theta)} &= n\\ln{\\theta}+n\\theta\\ln{c}-(\\theta+1) \\sideset{}{}\\sum^{n}_{i=1} \\ln x_{i}\\\\\n",
    "\\text{令}\\frac{d\\ln{L(\\theta)}}{d\\theta} &= \n",
    "\\frac{n}{\\theta}+n\\ln{c}-\\sideset{}{}\\sum^{n}_{i=1} \\ln x_{i}=0\\\\\n",
    "\\text{解得}\\hat{\\theta} &= \\frac{1}{\\frac{1}{n} \\sideset{}{}\\sum^{n}_{i=1} \\ln{x_{i}}-\\ln{c}}\\\\\n",
    "\\text{又因为} \\theta &>1\\\\\n",
    "\\text{令}\\hat{\\theta} &= \\frac{1}{\\frac{1}{n} \\sideset{}{}\\sum^{n}_{i=1} \\ln{x_{i}}-\\ln{c}}>1\\\\\n",
    "1 &>\\frac{1}{n} \\sideset{}{}\\sum^{n}_{i=1} \\ln{x_{i}}-\\ln{c}\\\\\n",
    "1+\\ln{c} &>\\frac{1}{n} \\sideset{}{}\\sum^{n}_{i=1} \\ln{x_{i}}\\\\\n",
    "\\ln(ec) &>\\ln(x_{1}, x_{2} ,\\dots, x_{n})^{\\frac{1}{n}}\\\\\n",
    "ec &>(x_{1}, x_{2} ,\\dots, x_{n})^{\\frac{1}{n}}\\\\\n",
    "\\text{且}x_{i} &>c \\Rightarrow \\\\\n",
    "\\ln(x_{1}, x_{2} ,\\dots, x_{n})^{\\frac{1}{n}} &>(c^{n})^{\\frac{1}{n}} =c\\\\\n",
    "\\text{故} ec &>(x_{1}, x_{2} ,\\dots, x_{n})^{\\frac{1}{n}} >c\\\\\n",
    "\\text{当}(x_{1}, x_{2} ,\\dots, x_{n})^{\\frac{1}{n}} &\\in(c, ec)  \\text{时}\\\\\n",
    "\\text{可取到}\\hat{\\theta} &= \\frac{1}{\\frac{1}{n} \\sideset{}{}\\sum^{n}_{i=1} \\ln{x_{i}}-\\ln{c}}\\\\\n",
    "\\text{且此时}\\frac{d^{2}\\ln{L(\\theta)}}{{d\\theta}^{2}} &= -\\frac{n}{{\\theta}^{2}}<0\\\\\n",
    "\\hat{\\theta} \\text{是极大值点}\n",
    "\\end{align}$\n",
    "\n",
    "</font>"
   ]
  },
  {
   "cell_type": "markdown",
   "metadata": {},
   "source": [
    "<script type=\"text/javascript\" src=\"http://cdn.mathjax.org/mathjax/latest/MathJax.js?config=default\"></script><font size=4>\n",
    "\n",
    "2.假如有一个罐子, 里面有黑白两种颜色的球, 数目多少不知, 两种颜色的比例也不知. 我们想知道罐中白球和黑球的比例, 但我们不能把罐中的球全部拿出来数(球太多了, 耽误我上王者). 现在我们可以进行100次实验, 每次实验都拿出10个球, 记录下白球的数量. 假设这100次实验都相与独立的, 请问罐中白球所占的比例最有可能是多少? 实验的数据如下:\n",
    "\n",
    "\n",
    "| 拿出白球的数量 | 0 | 1 | 2 | 3 | 4 | 5 | 6 | 7 | 8 | 9 | 10 |\n",
    "|:----------------:|:-:|:-:|:-:|:-:|:-:|:-:|:-:|:-:|:-:|:-:|:--:|\n",
    "| 实验次数      | 0 | 1 | 6 | 7 | 23 | 26 | 21 | 12 | 3 | 1 | 0 |\n",
    "\n",
    "tips: 变量X为每次实验中拿出白球的个数, 且X服从二项分布Bin(x|10, p).\n",
    "\n",
    "\n",
    "</font>"
   ]
  },
  {
   "cell_type": "markdown",
   "metadata": {},
   "source": [
    "<script type=\"text/javascript\" src=\"http://cdn.mathjax.org/mathjax/latest/MathJax.js?config=default\"></script><font size=4>\n",
    "解:\n",
    "\n",
    "$X=$ {每次拿出白球的个数}，服从二项分布.\n",
    "$\\begin{multline}\n",
    "L_{1}(p) = [C^{1}_{1O}p^{1}(1-p)^{9}]^{1}\\cdot [C^{2}_{1O}p^{2}(1-p)^{8}]^{6}\n",
    "      \\cdot[C^{3}_{1O}p^{3}(1-p)^{7}]^{7}\\cdot [C^{4}_{1O}p^{4}(1-p)^{6}]^{23}\\\\\n",
    "      \\cdot[C^{5}_{1O}p^{5}(1-p)^{5}]^{26}\\cdot [C^{6}_{1O}p^{6}(1-p)^{4}]^{21}\n",
    "      \\cdot[C^{7}_{1O}p^{7}(1-p)^{3}]^{12}\\cdot [C^{8}_{1O}p^{8}(1-p)^{2}]^{3}\n",
    "      \\cdot[C^{9}_{1O}p^{9}(1-p)^{1}]^{1}\\\\\\\\\n",
    "\\end{multline}$\n",
    "\n",
    "$\\begin{align}\n",
    "L_{1}(p) &=\n",
    "(C^{1}_{1O})^{2}(C^{2}_{1O})^{9}(C^{3}_{1O})^{19}(C^{4}_{1O})^{44}(C^{5}_{1O})^{26}p^{499}(1-p)^{501}\\\\\n",
    "L(p) &=p^{499}(1-p)^{501}\\\\\n",
    "\\ln{L(p)} &=499\\ln{p}+501\\ln(1-p)\\\\\n",
    "\\text{令} \\frac{d\\ln{L(p)}}{dp} &=\n",
    "\\frac{499}{p}-\\frac{501}{1-p}=0\\\\\n",
    "\\text{解得}\\hat{p} &=\\frac{499}{1000}=0.499\\\\\n",
    "\\text{由于} \\frac{d^{2}\\ln{L(p)}}{{dp}^{2}} &= \n",
    "-\\frac{499}{p^{2}}-\\frac{501}{(1-p)^{2}}<0\\\\\n",
    "\\text{所以}\\hat{p}\\text{是极大值点}\n",
    "\\end{align}$\\\n",
    "\n",
    "白球所占比例最可能为49.9%\n",
    "（已经耽误我上王者了）\n",
    "</font>"
   ]
  },
  {
   "cell_type": "markdown",
   "metadata": {},
   "source": [
    "遇到不会输入的数学符号, 可以参考《LATEX数学符号表.pdf》文献中的说明, Markdown的公式输入与Latex相类似, 现在多掌握一下Markdown的公式输入, 对你以后的Latex写作是很有帮助."
   ]
  },
  {
   "cell_type": "markdown",
   "metadata": {},
   "source": [
    "参考文献:\n",
    "\n",
    "[1]茆诗松, 程依明, 濮晓龙, 等. 概率论与数理统计教程 (第二版). 北京: 高等教育出版社, 2011."
   ]
  },
  {
   "cell_type": "code",
   "execution_count": null,
   "metadata": {
    "collapsed": true
   },
   "outputs": [],
   "source": [
    "为什么我上传到github的账户里的文件为什么不能正常显示公式？"
   ]
  },
  {
   "cell_type": "markdown",
   "metadata": {},
   "source": [
    "如果你有什么疑问或者收获, 你可以在这里记录下来.\n",
    "###"
   ]
  },
  {
   "cell_type": "code",
   "execution_count": null,
   "metadata": {
    "collapsed": true
   },
   "outputs": [],
   "source": []
  }
 ],
 "metadata": {
  "kernelspec": {
   "display_name": "Python 3",
   "language": "python",
   "name": "python3"
  },
  "language_info": {
   "codemirror_mode": {
    "name": "ipython",
    "version": 3
   },
   "file_extension": ".py",
   "mimetype": "text/x-python",
   "name": "python",
   "nbconvert_exporter": "python",
   "pygments_lexer": "ipython3",
   "version": "3.6.1"
  }
 },
 "nbformat": 4,
 "nbformat_minor": 2
}
